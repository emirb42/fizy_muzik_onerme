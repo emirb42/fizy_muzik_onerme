{
  "cells": [
    {
      "cell_type": "code",
      "execution_count": null,
      "metadata": {
        "id": "qYocmb4xRwR7"
      },
      "outputs": [],
      "source": [
        "import zipfile\n",
        "with zipfile.ZipFile(\"/content/data.zip\", 'r') as zip_ref:\n",
        "    zip_ref.extractall(\"/content/\")"
      ]
    },
    {
      "cell_type": "code",
      "execution_count": null,
      "metadata": {
        "colab": {
          "base_uri": "https://localhost:8080/"
        },
        "id": "HBIIpgtVRJ_d",
        "outputId": "ee640dca-14e8-4a81-8cc5-fa950619a1df"
      },
      "outputs": [],
      "source": [
        "\n",
        "import os\n",
        "import sys\n",
        "from tempfile import NamedTemporaryFile\n",
        "from urllib.request import urlopen\n",
        "from urllib.parse import unquote, urlparse\n",
        "from urllib.error import HTTPError\n",
        "from zipfile import ZipFile\n",
        "import tarfile\n",
        "import shutil\n",
        "\n",
        "CHUNK_SIZE = 40960\n",
        "DATA_SOURCE_MAPPING = 'spotify-dataset:https%3A%2F%2Fstorage.googleapis.com%2Fkaggle-data-sets%2F1800580%2F2936818%2Fbundle%2Farchive.zip%3FX-Goog-Algorithm%3DGOOG4-RSA-SHA256%26X-Goog-Credential%3Dgcp-kaggle-com%2540kaggle-161607.iam.gserviceaccount.com%252F20240505%252Fauto%252Fstorage%252Fgoog4_request%26X-Goog-Date%3D20240505T010052Z%26X-Goog-Expires%3D259200%26X-Goog-SignedHeaders%3Dhost%26X-Goog-Signature%3D7a095318cf8957bfd4914ad66ca3cc13ddf6bc1134cf7c51390b61242cb24b66a2ed57ef750e7985bb85d9ed9f605a5beb55ae65f822c9e313095e749aaa7e918d628438b6688d56e5dfb1348ae56cffea9f624619eada59e74a67920b51ec08f6daf795e9d06257346ea5cf0be1b3f09106afdbd2a7add2d459df99e0e61b6917617b22d690d548475f625f1c8bc5b8e62a6965b1df59eec070eeaed6b20ed970c213a041584dc06a4ce3b2f25f470bdb63b6000f1b337efc162760ff4dc44fd0649313fb80397b35a34a64ce13ea1c7039f389e04d2b8c024f12adb6a2adbc218a7f8e63b30f11de6479b6f73a99b3f9d45a55b48bb6f73b5e0b6a9c024774'\n",
        "\n",
        "KAGGLE_INPUT_PATH='/kaggle/input'\n",
        "KAGGLE_WORKING_PATH='/kaggle/working'\n",
        "KAGGLE_SYMLINK='kaggle'\n",
        "\n",
        "!umount /kaggle/input/ 2> /dev/null\n",
        "shutil.rmtree('/kaggle/input', ignore_errors=True)\n",
        "os.makedirs(KAGGLE_INPUT_PATH, 0o777, exist_ok=True)\n",
        "os.makedirs(KAGGLE_WORKING_PATH, 0o777, exist_ok=True)\n",
        "\n",
        "try:\n",
        "  os.symlink(KAGGLE_INPUT_PATH, os.path.join(\"..\", 'input'), target_is_directory=True)\n",
        "except FileExistsError:\n",
        "  pass\n",
        "try:\n",
        "  os.symlink(KAGGLE_WORKING_PATH, os.path.join(\"..\", 'working'), target_is_directory=True)\n",
        "except FileExistsError:\n",
        "  pass\n",
        "\n",
        "for data_source_mapping in DATA_SOURCE_MAPPING.split(','):\n",
        "    directory, download_url_encoded = data_source_mapping.split(':')\n",
        "    download_url = unquote(download_url_encoded)\n",
        "    filename = urlparse(download_url).path\n",
        "    destination_path = os.path.join(KAGGLE_INPUT_PATH, directory)\n",
        "    try:\n",
        "        with urlopen(download_url) as fileres, NamedTemporaryFile() as tfile:\n",
        "            total_length = fileres.headers['content-length']\n",
        "            print(f'Downloading {directory}, {total_length} bytes compressed')\n",
        "            dl = 0\n",
        "            data = fileres.read(CHUNK_SIZE)\n",
        "            while len(data) > 0:\n",
        "                dl += len(data)\n",
        "                tfile.write(data)\n",
        "                done = int(50 * dl / int(total_length))\n",
        "                sys.stdout.write(f\"\\r[{'=' * done}{' ' * (50-done)}] {dl} bytes downloaded\")\n",
        "                sys.stdout.flush()\n",
        "                data = fileres.read(CHUNK_SIZE)\n",
        "            if filename.endswith('.zip'):\n",
        "              with ZipFile(tfile) as zfile:\n",
        "                zfile.extractall(destination_path)\n",
        "            else:\n",
        "              with tarfile.open(tfile.name) as tarfile:\n",
        "                tarfile.extractall(destination_path)\n",
        "            print(f'\\nDownloaded and uncompressed: {directory}')\n",
        "    except HTTPError as e:\n",
        "        print(f'Failed to load (likely expired) {download_url} to path {destination_path}')\n",
        "        continue\n",
        "    except OSError as e:\n",
        "        print(f'Failed to load {download_url} to path {destination_path}')\n",
        "        continue\n",
        "\n",
        "print('Data source import complete.')\n"
      ]
    },
    {
      "cell_type": "markdown",
      "metadata": {
        "id": "Urwinz4-RJ_e"
      },
      "source": [
        "# **Spotify Veri Setleri ile Şarkı Öneri Sistemi**"
      ]
    },
    {
      "cell_type": "markdown",
      "metadata": {
        "id": "Td_7rdx2RJ_f"
      },
      "source": [
        "# **Kütüphane Yükleme**"
      ]
    },
    {
      "cell_type": "code",
      "execution_count": 250,
      "metadata": {
        "execution": {
          "iopub.execute_input": "2021-12-17T05:44:20.71533Z",
          "iopub.status.busy": "2021-12-17T05:44:20.714397Z",
          "iopub.status.idle": "2021-12-17T05:44:21.808185Z",
          "shell.execute_reply": "2021-12-17T05:44:21.807394Z",
          "shell.execute_reply.started": "2021-12-17T05:44:20.715276Z"
        },
        "id": "UHM7Q8LwRJ_f",
        "trusted": true
      },
      "outputs": [],
      "source": [
        "import os\n",
        "import numpy as np\n",
        "import pandas as pd\n",
        "\n",
        "import seaborn as sns\n",
        "import plotly.express as px\n",
        "import matplotlib.pyplot as plt\n",
        "%matplotlib inline\n",
        "\n",
        "from sklearn.cluster import KMeans\n",
        "from sklearn.preprocessing import StandardScaler\n",
        "from sklearn.pipeline import Pipeline\n",
        "from sklearn.manifold import TSNE\n",
        "from sklearn.decomposition import PCA\n",
        "from sklearn.metrics import euclidean_distances\n",
        "from scipy.spatial.distance import cdist\n",
        "\n",
        "import warnings\n",
        "warnings.filterwarnings(\"ignore\")"
      ]
    },
    {
      "cell_type": "markdown",
      "metadata": {
        "id": "261i0iHIRJ_f"
      },
      "source": [
        "# **Verileri Okuma"
      ]
    },
    {
      "cell_type": "code",
      "execution_count": 251,
      "metadata": {
        "execution": {
          "iopub.execute_input": "2021-12-17T05:44:21.810083Z",
          "iopub.status.busy": "2021-12-17T05:44:21.809689Z",
          "iopub.status.idle": "2021-12-17T05:44:22.522129Z",
          "shell.execute_reply": "2021-12-17T05:44:22.521334Z",
          "shell.execute_reply.started": "2021-12-17T05:44:21.810053Z"
        },
        "id": "qAtFQtQ6RJ_f",
        "trusted": true
      },
      "outputs": [],
      "source": [
        "data = pd.read_csv(\"/content/data/data.csv\")\n",
        "genre_data = pd.read_csv('/content/data/data_by_genres.csv')\n",
        "year_data = pd.read_csv('/content/data/data_by_year.csv')"
      ]
    },
    {
      "cell_type": "code",
      "execution_count": null,
      "metadata": {
        "_kg_hide-output": true,
        "colab": {
          "base_uri": "https://localhost:8080/"
        },
        "execution": {
          "iopub.execute_input": "2021-12-17T05:44:22.523745Z",
          "iopub.status.busy": "2021-12-17T05:44:22.523285Z",
          "iopub.status.idle": "2021-12-17T05:44:22.617801Z",
          "shell.execute_reply": "2021-12-17T05:44:22.616916Z",
          "shell.execute_reply.started": "2021-12-17T05:44:22.523696Z"
        },
        "id": "2Z6T1ddrRJ_f",
        "outputId": "5dedfa33-8c08-43ce-d0a0-d4ca44fe9eea",
        "trusted": true
      },
      "outputs": [],
      "source": [
        "print(data.info())"
      ]
    },
    {
      "cell_type": "code",
      "execution_count": null,
      "metadata": {
        "_kg_hide-output": true,
        "colab": {
          "base_uri": "https://localhost:8080/"
        },
        "execution": {
          "iopub.execute_input": "2021-12-17T05:44:22.621083Z",
          "iopub.status.busy": "2021-12-17T05:44:22.62063Z",
          "iopub.status.idle": "2021-12-17T05:44:22.634669Z",
          "shell.execute_reply": "2021-12-17T05:44:22.63377Z",
          "shell.execute_reply.started": "2021-12-17T05:44:22.621037Z"
        },
        "id": "a-dlsGOdRJ_f",
        "outputId": "4c09cf09-b6fe-4853-da12-3d09ce1b5cab",
        "trusted": true
      },
      "outputs": [],
      "source": [
        "print(genre_data.info())"
      ]
    },
    {
      "cell_type": "code",
      "execution_count": null,
      "metadata": {
        "_kg_hide-output": true,
        "colab": {
          "base_uri": "https://localhost:8080/"
        },
        "execution": {
          "iopub.execute_input": "2021-12-17T05:44:22.636733Z",
          "iopub.status.busy": "2021-12-17T05:44:22.636084Z",
          "iopub.status.idle": "2021-12-17T05:44:22.647925Z",
          "shell.execute_reply": "2021-12-17T05:44:22.646858Z",
          "shell.execute_reply.started": "2021-12-17T05:44:22.636686Z"
        },
        "id": "fz5fIpVcRJ_g",
        "outputId": "1f7b91e1-71fd-4a18-ec7c-87ef7b70b7bf",
        "trusted": true
      },
      "outputs": [],
      "source": [
        "print(year_data.info())"
      ]
    },
    {
      "cell_type": "markdown",
      "metadata": {
        "id": "A2KVcuaPRJ_g"
      },
      "source": [
        "We are going to check for all the analysis with the target as **'popularity'**. Before going to do that let's check for the Feature Correlation by considering a few features and for that, I'm going to use the **yellowbrick** package. You can learn more about it from the [documentation](https://www.scikit-yb.org/en/latest/index.html)."
      ]
    },
    {
      "cell_type": "code",
      "execution_count": null,
      "metadata": {
        "_kg_hide-input": true,
        "colab": {
          "base_uri": "https://localhost:8080/",
          "height": 211
        },
        "execution": {
          "iopub.execute_input": "2021-12-17T05:44:22.650055Z",
          "iopub.status.busy": "2021-12-17T05:44:22.649461Z",
          "iopub.status.idle": "2021-12-17T05:44:22.923236Z",
          "shell.execute_reply": "2021-12-17T05:44:22.922246Z",
          "shell.execute_reply.started": "2021-12-17T05:44:22.650012Z"
        },
        "id": "o1sJocKKRJ_g",
        "outputId": "e665650f-9c7b-4111-b7f5-6133f3cf236e",
        "trusted": true
      },
      "outputs": [],
      "source": [
        "from yellowbrick.target import FeatureCorrelation\n",
        "\n",
        "feature_names = ['acousticness', 'danceability', 'energy', 'instrumentalness',\n",
        "       'liveness', 'loudness', 'speechiness', 'tempo', 'valence','duration_ms','explicit','key','mode','year']\n",
        "\n",
        "X, y = data[feature_names], data['popularity']\n",
        "\n",
        "features = np.array(feature_names)\n",
        "\n",
        "visualizer = FeatureCorrelation(labels=features)\n",
        "\n",
        "plt.rcParams['figure.figsize']=(20,20)\n",
        "visualizer.fit(X, y)\n",
        "visualizer.show()"
      ]
    },
    {
      "cell_type": "markdown",
      "metadata": {
        "id": "rA0kAThRRJ_g"
      },
      "source": [
        "# **Veri Görselleştirmesi**"
      ]
    },
    {
      "cell_type": "markdown",
      "metadata": {
        "id": "YUvnHgKbRJ_g"
      },
      "source": [
        "# **Yıllara Göre Müzik**\n",
        "\n",
        "Yıllara göre gruplandırılmış verileri kullanarak müziğin 1921 ve 2020 yılları arasındaki değişimini görmekteyiz."
      ]
    },
    {
      "cell_type": "code",
      "execution_count": null,
      "metadata": {
        "_kg_hide-input": true,
        "colab": {
          "base_uri": "https://localhost:8080/",
          "height": 572
        },
        "execution": {
          "iopub.execute_input": "2021-12-17T05:44:23.524059Z",
          "iopub.status.busy": "2021-12-17T05:44:23.523636Z",
          "iopub.status.idle": "2021-12-17T05:44:23.989474Z",
          "shell.execute_reply": "2021-12-17T05:44:23.988566Z",
          "shell.execute_reply.started": "2021-12-17T05:44:23.524023Z"
        },
        "id": "IAGqdXuhRJ_g",
        "outputId": "58aa1cfd-bbf6-4931-83f3-e25487f8c155",
        "trusted": true
      },
      "outputs": [
        {
          "data": {
            "text/plain": [
              "<Axes: xlabel='count', ylabel='decade'>"
            ]
          },
          "execution_count": 184,
          "metadata": {},
          "output_type": "execute_result"
        },
        {
          "data": {
            "image/png": "[encoded data removed]",
            "text/plain": [
              "<Figure size 1100x600 with 1 Axes>"
            ]
          },
          "metadata": {},
          "output_type": "display_data"
        }
      ],
      "source": [
        "def get_decade(year):\n",
        "    period_start = int(year/10) * 10\n",
        "    decade = '{}s'.format(period_start)\n",
        "    return decade\n",
        "\n",
        "data['decade'] = data['year'].apply(get_decade)\n",
        "\n",
        "sns.set(rc={'figure.figsize':(11 ,6)})\n",
        "sns.countplot(data['decade'])"
      ]
    },
    {
      "cell_type": "code",
      "execution_count": null,
      "metadata": {
        "_kg_hide-input": true,
        "colab": {
          "base_uri": "https://localhost:8080/",
          "height": 542
        },
        "execution": {
          "iopub.execute_input": "2021-12-17T05:44:24.033039Z",
          "iopub.status.busy": "2021-12-17T05:44:24.032665Z",
          "iopub.status.idle": "2021-12-17T05:44:24.481812Z",
          "shell.execute_reply": "2021-12-17T05:44:24.480785Z",
          "shell.execute_reply.started": "2021-12-17T05:44:24.033003Z"
        },
        "id": "ZgLDgzG6RJ_h",
        "outputId": "467ce2bf-7931-4a31-9767-b4a778567e99",
        "trusted": true
      },
      "outputs": [],
      "source": [
        "sound_features = ['acousticness', 'danceability', 'energy', 'instrumentalness', 'liveness', 'valence']\n",
        "fig = px.line(year_data, x='year', y=sound_features)\n",
        "fig.show()"
      ]
    },
    {
      "cell_type": "markdown",
      "metadata": {
        "id": "joARraJFRJ_h"
      },
      "source": [
        "# **Türlere Atanan Parametreler**\n"
      ]
    },
    {
      "cell_type": "code",
      "execution_count": null,
      "metadata": {
        "_kg_hide-input": true,
        "colab": {
          "base_uri": "https://localhost:8080/",
          "height": 542
        },
        "execution": {
          "iopub.execute_input": "2021-12-17T05:44:24.976028Z",
          "iopub.status.busy": "2021-12-17T05:44:24.975629Z",
          "iopub.status.idle": "2021-12-17T05:44:25.069728Z",
          "shell.execute_reply": "2021-12-17T05:44:25.06874Z",
          "shell.execute_reply.started": "2021-12-17T05:44:24.975994Z"
        },
        "id": "tjBezLq0RJ_h",
        "outputId": "2bb4827b-6361-451c-814b-7fa5f132601a",
        "trusted": true
      },
      "outputs": [],
      "source": [
        "top10_genres = genre_data.nlargest(10, 'popularity')\n",
        "\n",
        "fig = px.bar(top10_genres, x='genres', y=['valence', 'energy', 'danceability', 'acousticness'], barmode='group')\n",
        "fig.show()"
      ]
    },
    {
      "cell_type": "markdown",
      "metadata": {
        "id": "onCC8zwKRJ_h"
      },
      "source": [
        "# **Şarkı Türlerinin Görselleştirilmesi**\n"
      ]
    },
    {
      "cell_type": "code",
      "execution_count": null,
      "metadata": {
        "colab": {
          "base_uri": "https://localhost:8080/"
        },
        "id": "IBCgYYJETYZy",
        "outputId": "672fc82a-4e29-4749-bb1c-2319227b22ab"
      },
      "outputs": [
        {
          "name": "stdout",
          "output_type": "stream",
          "text": [
            "Requirement already satisfied: scikit-learn in /usr/local/lib/python3.10/dist-packages (1.2.2)\n",
            "Requirement already satisfied: numpy>=1.17.3 in /usr/local/lib/python3.10/dist-packages (from scikit-learn) (1.25.2)\n",
            "Requirement already satisfied: scipy>=1.3.2 in /usr/local/lib/python3.10/dist-packages (from scikit-learn) (1.11.4)\n",
            "Requirement already satisfied: joblib>=1.1.1 in /usr/local/lib/python3.10/dist-packages (from scikit-learn) (1.4.0)\n",
            "Requirement already satisfied: threadpoolctl>=2.0.0 in /usr/local/lib/python3.10/dist-packages (from scikit-learn) (3.5.0)\n"
          ]
        }
      ],
      "source": [
        "!pip install scikit-learn"
      ]
    },
    {
      "cell_type": "code",
      "execution_count": 252,
      "metadata": {
        "execution": {
          "iopub.execute_input": "2021-12-17T05:44:26.212698Z",
          "iopub.status.busy": "2021-12-17T05:44:26.212124Z",
          "iopub.status.idle": "2021-12-17T05:44:26.518808Z",
          "shell.execute_reply": "2021-12-17T05:44:26.517759Z",
          "shell.execute_reply.started": "2021-12-17T05:44:26.212632Z"
        },
        "id": "fYwdWb5rRJ_h",
        "trusted": true
      },
      "outputs": [],
      "source": [
        "from sklearn.cluster import KMeans\n",
        "from sklearn.preprocessing import StandardScaler\n",
        "from sklearn.pipeline import Pipeline\n",
        "\n",
        "cluster_pipeline = Pipeline([('scaler', StandardScaler()), ('kmeans', KMeans(n_clusters=10))])\n",
        "X = genre_data.select_dtypes(np.number)\n",
        "cluster_pipeline.fit(X)\n",
        "genre_data['cluster'] = cluster_pipeline.predict(X)"
      ]
    },
    {
      "cell_type": "code",
      "execution_count": null,
      "metadata": {
        "_kg_hide-output": false,
        "colab": {
          "base_uri": "https://localhost:8080/",
          "height": 698
        },
        "execution": {
          "iopub.execute_input": "2021-12-17T05:44:27.518738Z",
          "iopub.status.busy": "2021-12-17T05:44:27.518353Z",
          "iopub.status.idle": "2021-12-17T05:44:43.188605Z",
          "shell.execute_reply": "2021-12-17T05:44:43.187534Z",
          "shell.execute_reply.started": "2021-12-17T05:44:27.518702Z"
        },
        "id": "Cp0BGw2yRJ_h",
        "outputId": "2963a406-05a5-48ba-80b0-ebcceeecbdff",
        "trusted": true
      },
      "outputs": [],
      "source": [
        "# Şarkı türlerinin görselleştirilmesi\n",
        "\n",
        "from sklearn.manifold import TSNE\n",
        "\n",
        "tsne_pipeline = Pipeline([('scaler', StandardScaler()), ('tsne', TSNE(n_components=2, verbose=1))])\n",
        "genre_embedding = tsne_pipeline.fit_transform(X)\n",
        "projection = pd.DataFrame(columns=['x', 'y'], data=genre_embedding)\n",
        "projection['genres'] = genre_data['genres']\n",
        "projection['cluster'] = genre_data['cluster']\n",
        "\n",
        "fig = px.scatter(\n",
        "    projection, x='x', y='y', color='cluster', hover_data=['x', 'y', 'genres'])\n",
        "fig.show()"
      ]
    },
    {
      "cell_type": "markdown",
      "metadata": {
        "id": "vjpGEgFaRJ_h"
      },
      "source": [
        "# **Şarkı İsimlerine Göre Veri Görselleştirmesi**"
      ]
    },
    {
      "cell_type": "code",
      "execution_count": null,
      "metadata": {
        "_kg_hide-output": true,
        "execution": {
          "iopub.execute_input": "2021-12-17T05:44:43.191246Z",
          "iopub.status.busy": "2021-12-17T05:44:43.190695Z",
          "iopub.status.idle": "2021-12-17T05:44:55.203359Z",
          "shell.execute_reply": "2021-12-17T05:44:55.202178Z",
          "shell.execute_reply.started": "2021-12-17T05:44:43.191203Z"
        },
        "id": "5oooO-8LRJ_h",
        "trusted": true
      },
      "outputs": [],
      "source": [
        "song_cluster_pipeline = Pipeline([('scaler', StandardScaler()),\n",
        "                                  ('kmeans', KMeans(n_clusters=20,\n",
        "                                   verbose=False))\n",
        "                                 ], verbose=False)\n",
        "\n",
        "X = data.select_dtypes(np.number)\n",
        "number_cols = list(X.columns)\n",
        "song_cluster_pipeline.fit(X)\n",
        "song_cluster_labels = song_cluster_pipeline.predict(X)\n",
        "data['cluster_label'] = song_cluster_labels"
      ]
    },
    {
      "cell_type": "code",
      "execution_count": null,
      "metadata": {
        "_kg_hide-output": false,
        "colab": {
          "base_uri": "https://localhost:8080/",
          "height": 542
        },
        "execution": {
          "iopub.execute_input": "2021-12-17T05:44:55.205249Z",
          "iopub.status.busy": "2021-12-17T05:44:55.204917Z",
          "iopub.status.idle": "2021-12-17T05:45:01.491666Z",
          "shell.execute_reply": "2021-12-17T05:45:01.490056Z",
          "shell.execute_reply.started": "2021-12-17T05:44:55.205217Z"
        },
        "id": "ohQlb-xCRJ_h",
        "outputId": "6373612f-b64e-4c06-8c60-2ca7d621ab35",
        "trusted": true
      },
      "outputs": [],
      "source": [
        "# Başlıkların veri görselleştirilmesi\n",
        "\n",
        "from sklearn.decomposition import PCA\n",
        "\n",
        "pca_pipeline = Pipeline([('scaler', StandardScaler()), ('PCA', PCA(n_components=2))])\n",
        "song_embedding = pca_pipeline.fit_transform(X)\n",
        "projection = pd.DataFrame(columns=['x', 'y'], data=song_embedding)\n",
        "projection['title'] = data['name']\n",
        "projection['cluster'] = data['cluster_label']\n",
        "\n",
        "fig = px.scatter(\n",
        "    projection, x='x', y='y', color='cluster', hover_data=['x', 'y', 'title'])\n",
        "fig.show()"
      ]
    },
    {
      "cell_type": "code",
      "execution_count": null,
      "metadata": {
        "colab": {
          "base_uri": "https://localhost:8080/"
        },
        "id": "xw5Lq-NDRJ_i",
        "outputId": "0b76a744-9446-4c44-f1b0-c9c9710c027a",
        "trusted": true
      },
      "outputs": [],
      "source": [
        "!pip install spotipy"
      ]
    },
    {
      "cell_type": "code",
      "execution_count": 254,
      "metadata": {
        "id": "9JWDEHToRJ_i",
        "trusted": true
      },
      "outputs": [],
      "source": [
        "import spotipy\n",
        "from spotipy.oauth2 import SpotifyClientCredentials\n",
        "from collections import defaultdict\n",
        "\n",
        "sp = spotipy.Spotify(auth_manager=SpotifyClientCredentials(client_id=\"aa96343daac04feb9210c59311e4ef7a\",\n",
        "                                                           client_secret=\"22b975444578402d9dd7f740fe0d1cd7\"))\n",
        "\n",
        "def find_song(name, year):\n",
        "    song_data = defaultdict()\n",
        "    results = sp.search(q= 'track: {} year: {}'.format(name,year), limit=1)\n",
        "    if results['tracks']['items'] == []:\n",
        "        return None\n",
        "\n",
        "    results = results['tracks']['items'][0]\n",
        "    track_id = results['id']\n",
        "    audio_features = sp.audio_features(track_id)[0]\n",
        "\n",
        "    song_data['name'] = [name]\n",
        "    song_data['year'] = [year]\n",
        "    song_data['explicit'] = [int(results['explicit'])]\n",
        "    song_data['duration_ms'] = [results['duration_ms']]\n",
        "    song_data['popularity'] = [results['popularity']]\n",
        "\n",
        "    for key, value in audio_features.items():\n",
        "        song_data[key] = value\n",
        "\n",
        "    return pd.DataFrame(song_data)\n"
      ]
    },
    {
      "cell_type": "code",
      "execution_count": 255,
      "metadata": {
        "id": "UuXX_NwMRJ_i",
        "trusted": true
      },
      "outputs": [],
      "source": [
        "from collections import defaultdict\n",
        "from sklearn.metrics import euclidean_distances\n",
        "from scipy.spatial.distance import cdist\n",
        "import difflib\n",
        "import numpy as np\n",
        "number_cols = ['valence', 'year', 'acousticness', 'danceability', 'duration_ms', 'energy', 'explicit',\n",
        " 'instrumentalness', 'key', 'liveness', 'loudness', 'mode', 'popularity', 'speechiness', 'tempo']\n",
        "\n",
        "\n",
        "def get_song_data(song, spotify_data):\n",
        "\n",
        "    try:\n",
        "        song_data = spotify_data[(spotify_data['name'] == song['name'])\n",
        "                                & (spotify_data['year'] == song['year'])].iloc[0]\n",
        "        return song_data\n",
        "\n",
        "    except IndexError:\n",
        "        return find_song(song['name'], song['year'])\n",
        "\n",
        "\n",
        "def get_mean_vector(song_list, spotify_data):\n",
        "    song_vectors = []\n",
        "    expected_shape = len(number_cols)\n",
        "    for song in song_list:\n",
        "        song_data = get_song_data(song, spotify_data)\n",
        "        if song_data is None:\n",
        "            print(f'Warning: {song[\"name\"]} does not exist in Spotify or in database')\n",
        "            continue\n",
        "        song_vector = song_data[number_cols].values\n",
        "        if len(song_vector) == expected_shape:\n",
        "            song_vectors.append(song_vector)\n",
        "        else:\n",
        "            print(f'Warning: {song[\"name\"]} has an unexpected number of features. Skipping.')\n",
        "    if not song_vectors:\n",
        "        return None\n",
        "    song_matrix = np.array(song_vectors)\n",
        "    return np.mean(song_matrix, axis=0)\n",
        "\n",
        "\n",
        "\n",
        "def flatten_dict_list(dict_list):\n",
        "\n",
        "    flattened_dict = defaultdict()\n",
        "    for key in dict_list[0].keys():\n",
        "        flattened_dict[key] = []\n",
        "\n",
        "    for dictionary in dict_list:\n",
        "        for key, value in dictionary.items():\n",
        "            flattened_dict[key].append(value)\n",
        "\n",
        "    return flattened_dict\n",
        "\n",
        "\n",
        "def recommend_songs( song_list, spotify_data, n_songs=10):\n",
        "\n",
        "    metadata_cols = ['name', 'year', 'artists']\n",
        "    song_dict = flatten_dict_list(song_list)\n",
        "\n",
        "    song_center = get_mean_vector(song_list, spotify_data)\n",
        "    scaler = song_cluster_pipeline.steps[0][1]\n",
        "    scaled_data = scaler.transform(spotify_data[number_cols])\n",
        "    scaled_song_center = scaler.transform(song_center.reshape(1, -1))\n",
        "    distances = cdist(scaled_song_center, scaled_data, 'cosine')\n",
        "    index = list(np.argsort(distances)[:, :n_songs][0])\n",
        "\n",
        "    rec_songs = spotify_data.iloc[index]\n",
        "    rec_songs = rec_songs[~rec_songs['name'].isin(song_dict['name'])]\n",
        "    return rec_songs[metadata_cols].to_dict(orient='records')"
      ]
    },
    {
      "cell_type": "code",
      "execution_count": null,
      "metadata": {
        "colab": {
          "base_uri": "https://localhost:8080/"
        },
        "id": "eVahnmS2RJ_i",
        "outputId": "bc388db6-1236-425f-953b-337ed6315068",
        "trusted": true
      },
      "outputs": [],
      "source": [
        "recommend_songs([{'name': 'Come As You Are', 'year':1991},\n",
        "                {'name': \"What I've Done\", 'year': 0}],  data)"
      ]
    },
    {
      "cell_type": "code",
      "execution_count": null,
      "metadata": {
        "colab": {
          "base_uri": "https://localhost:8080/",
          "height": 626
        },
        "id": "6XgHzuldVdSc",
        "outputId": "dc9d4758-1ac7-4217-a184-52ea2617f240"
      },
      "outputs": [],
      "source": [
        "import gradio as gr\n",
        "\n",
        "def parse_song_input(input_text):\n",
        "    song_list = []\n",
        "    lines = input_text.strip().split(\"\\n\")\n",
        "    for line in lines:\n",
        "        song_info = line.strip().split(\", \")\n",
        "        if len(song_info) == 2:\n",
        "            song_list.append({\"name\": song_info[0], \"year\": int(song_info[1])})\n",
        "    return song_list\n",
        "\n",
        "def recommend_songs_interface(song_input):\n",
        "    song_list = parse_song_input(song_input)\n",
        "    recommendations = recommend_songs(song_list, data)\n",
        "    formatted_recommendations = []\n",
        "    for song in recommendations:\n",
        "        formatted_recommendations.append(f\"{song['name']} ({song['year']}) by {''.join(song['artists'])}\")\n",
        "    return \"\\n\".join(formatted_recommendations)\n",
        "\n",
        "interface = gr.Interface(\n",
        "    fn=recommend_songs_interface,\n",
        "    inputs=\"text\",\n",
        "    outputs=\"text\",\n",
        "    title=\"Song Recommender\",\n",
        "    description=\"Enter each song in the format 'Song Name, Year' on separate lines.\",\n",
        "    examples=[\"Come As You Are, 1991\\nWhat I've Done, 2007\"],\n",
        ")\n",
        "\n",
        "interface.launch()\n"
      ]
    },
    {
      "cell_type": "code",
      "execution_count": null,
      "metadata": {
        "colab": {
          "base_uri": "https://localhost:8080/"
        },
        "id": "J3tiQ0Ptfpit",
        "outputId": "7b288e50-2982-458f-bfc7-dfbaafda590e"
      },
      "outputs": [],
      "source": [
        "import pandas as pd\n",
        "\n",
        "data = pd.read_csv(\"/content/data/data.csv\")\n",
        "\n",
        "print(data.head())\n"
      ]
    }
  ],
  "metadata": {
    "colab": {
      "provenance": []
    },
    "kernelspec": {
      "display_name": "Python 3",
      "language": "python",
      "name": "python3"
    },
    "language_info": {
      "codemirror_mode": {
        "name": "ipython",
        "version": 3
      },
      "file_extension": ".py",
      "mimetype": "text/x-python",
      "name": "python",
      "nbconvert_exporter": "python",
      "pygments_lexer": "ipython3",
      "version": "3.6.4"
    }
  },
  "nbformat": 4,
  "nbformat_minor": 0
}
